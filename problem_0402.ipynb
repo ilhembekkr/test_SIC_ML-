{
 "cells": [
  {
   "cell_type": "markdown",
   "metadata": {},
   "source": [
    "## Quiz #0402"
   ]
  },
  {
   "cell_type": "markdown",
   "metadata": {},
   "source": [
    "### \"OLS solution\""
   ]
  },
  {
   "cell_type": "code",
   "execution_count": 8,
   "metadata": {},
   "outputs": [],
   "source": [
    "import numpy as np\n",
    "import pandas as pd\n",
    "from sklearn.model_selection import train_test_split\n",
    "from sklearn.linear_model import LinearRegression\n",
    "from sklearn.metrics import mean_squared_error\n",
    "from sklearn import metrics"
   ]
  },
  {
   "cell_type": "markdown",
   "metadata": {},
   "source": [
    "#### Answer the following question by providing Python code:\n",
    "<br>\n",
    "study = an array that contains the hours of study. This is the explanatory variable. <br>\n",
    "score = an array that contains the test scores. This is the response variable."
   ]
  },
  {
   "cell_type": "code",
   "execution_count": 9,
   "metadata": {},
   "outputs": [],
   "source": [
    "study = np.array([ 3, 4.5, 6, 1.2, 2, 6.9, 6.7, 5.5]).reshape(-1,1)\n",
    "score = np.array([ 88, 85, 90, 80, 81, 92, 95, 90]).reshape(-1,1)"
   ]
  },
  {
   "cell_type": "markdown",
   "metadata": {},
   "source": [
    "1). Define the 'linerRegression' class to match the output shown below:"
   ]
  },
  {
   "cell_type": "code",
   "execution_count": 30,
   "metadata": {},
   "outputs": [],
   "source": [
    "\n",
    "class linearRegression:\n",
    "    def init(self):\n",
    "        return\n",
    "    def train(self, input_X, input_Y):\n",
    "        n =  input_X.shape[0] #nbr of observation \n",
    "        k = input_X.shape[1]  #nbr of explanatery variables\n",
    "        iden = np.ones((n,1))\n",
    "        X = np.concatenate((iden,input_X),axis=1)\n",
    "        Y = input_Y.copy()\n",
    "\n",
    "        #beta : reg coef \n",
    "        self.beta = np.dot(np.linalg.inv(np.dot(X.T,X)),np.dot(X.T,Y))\n",
    "\n",
    "        #Residuals \n",
    "        self.rsd= Y- np.dot(X,self.beta) #to detect outliers\n",
    "\n",
    "        #r squared\n",
    "        SSE = np.dot((self.rsd).T, self.rsd)\n",
    "        SST = np.dot((Y - Y.mean()).T, (Y-Y.mean()))\n",
    "        self.rsqr = 1.0 - SSE[0][0]/SST[0][0]               #R² = 1 - (SSE/SST)\n",
    "\n",
    "        #Output\n",
    "        self.outpt = pd.DataFrame(self.beta,columns = ['Coefficient'])\n",
    "        features = ['Intercept']\n",
    "        for i in range(1,k+1) : \n",
    "            features +=['X' + str(i)]\n",
    "        self.outpt.index = features \n",
    "        return\n",
    "\n",
    "    def output(self):\n",
    "        print(self.outpt)\n",
    "        print(\"-\"*30)\n",
    "        print(\"R^2 : %f\" % self.rsqr)\n",
    "        "
   ]
  },
  {
   "cell_type": "markdown",
   "metadata": {},
   "source": [
    "**Sample run:**"
   ]
  },
  {
   "cell_type": "code",
   "execution_count": 31,
   "metadata": {},
   "outputs": [
    {
     "name": "stdout",
     "output_type": "stream",
     "text": [
      "           Coefficient\n",
      "Intercept    77.684670\n",
      "X1            2.221303\n",
      "------------------------------\n",
      "R^2 : 0.845842\n"
     ]
    }
   ],
   "source": [
    "LR = linearRegression()                    # Create a linear regression object.\n",
    "LR.train(study, score)                     # Train.\n",
    "LR.output()                                # Display the training result."
   ]
  },
  {
   "cell_type": "code",
   "execution_count": null,
   "metadata": {},
   "outputs": [],
   "source": []
  }
 ],
 "metadata": {
  "kernelspec": {
   "display_name": "Python 3",
   "language": "python",
   "name": "python3"
  },
  "language_info": {
   "codemirror_mode": {
    "name": "ipython",
    "version": 3
   },
   "file_extension": ".py",
   "mimetype": "text/x-python",
   "name": "python",
   "nbconvert_exporter": "python",
   "pygments_lexer": "ipython3",
   "version": "3.8.8"
  },
  "toc": {
   "base_numbering": 1,
   "nav_menu": {},
   "number_sections": true,
   "sideBar": true,
   "skip_h1_title": false,
   "title_cell": "Table of Contents",
   "title_sidebar": "Contents",
   "toc_cell": false,
   "toc_position": {},
   "toc_section_display": true,
   "toc_window_display": false
  },
  "varInspector": {
   "cols": {
    "lenName": 16,
    "lenType": 16,
    "lenVar": 40
   },
   "kernels_config": {
    "python": {
     "delete_cmd_postfix": "",
     "delete_cmd_prefix": "del ",
     "library": "var_list.py",
     "varRefreshCmd": "print(var_dic_list())"
    },
    "r": {
     "delete_cmd_postfix": ") ",
     "delete_cmd_prefix": "rm(",
     "library": "var_list.r",
     "varRefreshCmd": "cat(var_dic_list()) "
    }
   },
   "types_to_exclude": [
    "module",
    "function",
    "builtin_function_or_method",
    "instance",
    "_Feature"
   ],
   "window_display": false
  }
 },
 "nbformat": 4,
 "nbformat_minor": 2
}
